{
 "cells": [
  {
   "cell_type": "code",
   "execution_count": 1,
   "id": "21182b1c",
   "metadata": {},
   "outputs": [],
   "source": [
    "import numpy\n",
    "import scipy.special\n",
    "import matplotlib.pyplot\n",
    "%matplotlib inline"
   ]
  },
  {
   "cell_type": "code",
   "execution_count": 2,
   "id": "98986ea0",
   "metadata": {},
   "outputs": [],
   "source": [
    "class neuralNetwork:\n",
    "    def __init__(self,inputnodes,hiddennodes,outputnodes,learningrate):\n",
    "        #задаю количество узлов в слоях\n",
    "        self.inodes=inputnodes\n",
    "        self.hnodes=hiddennodes\n",
    "        self.onodes=outputnodes\n",
    "        #коэффицент обучения\n",
    "        self.lr=learningrate\n",
    "        \n",
    "        self.wih=numpy.random.normal(0.0,pow(self.hnodes,-0.5),size=(self.hnodes,self.inodes))\n",
    "        self.woh=numpy.random.normal(0.0,pow(self.onodes,-0.5),size=(self.onodes,self.hnodes))\n",
    "        self.activation_function = lambda x: scipy.special.expit(x)\n",
    "        pass\n",
    "    def train(self,inputs_list,targets_list):\n",
    "        inputs = numpy.array(inputs_list,ndmin=2).T\n",
    "        targets = numpy.array(targets_list,ndmin=2).T\n",
    "        \n",
    "        hidden_inputs = numpy.dot(self.wih,inputs)\n",
    "        hidden_outputs = self.activation_function(hidden_inputs)\n",
    "        \n",
    "        final_inputs = numpy.dot(self.woh,hidden_outputs)\n",
    "        final_outputs = self.activation_function(final_inputs)\n",
    "        \n",
    "        output_errors = targets - final_outputs\n",
    "        hidden_errors = numpy.dot(self.woh.T,output_errors)\n",
    "        \n",
    "        self.woh += self.lr * numpy.dot((output_errors * final_outputs \n",
    "                                         * (1.0-final_outputs)),numpy.transpose(hidden_outputs))\n",
    "        self.wih += self.lr * numpy.dot((hidden_errors*hidden_outputs \n",
    "                                         * (1.0-hidden_outputs)),numpy.transpose(inputs))\n",
    "        pass\n",
    "    def query(self,inputs_list):\n",
    "        inputs = numpy.array(inputs_list,ndmin=2).T\n",
    "        hidden_inputs = numpy.dot(self.wih,inputs)\n",
    "        hidden_outputs = self.activation_function(hidden_inputs)\n",
    "        \n",
    "        final_inputs = numpy.dot(self.woh,hidden_outputs)\n",
    "        final_outputs = self.activation_function(final_inputs)\n",
    "        return final_outputs\n",
    "        pass\n",
    "    def __str__(self):\n",
    "        return \"inodes=\" + str(self.inodes) + \"\\nhnodes=\" + str(self.hnodes) + \"\\nonodes=\" + str(self.onodes) + \"\\nwih=\\n\" + str(self.wih) +\"\\nwoh=\\n\" + str(self.woh)"
   ]
  },
  {
   "cell_type": "code",
   "execution_count": 7,
   "id": "47abf218",
   "metadata": {},
   "outputs": [],
   "source": [
    "input_nodes=784\n",
    "hidden_nodes=100\n",
    "output_nodes=10\n",
    "learning_rate=0.3\n",
    "n=neuralNetwork(input_nodes,hidden_nodes,output_nodes,learning_rate)\n",
    "\n",
    "training_data_file = open(\"./mnist_train.csv\",'r')\n",
    "train_data_list = training_data_file.readlines()\n",
    "training_data_file.close()\n",
    "for record in train_data_list:\n",
    "    all_values = record.split(',')\n",
    "    inputs = (numpy.asfarray(all_values[1:])/255.0 * 0.99) + 0.01\n",
    "    targets = numpy.zeros(output_nodes) + 0.01\n",
    "    targets[int(all_values[0])] =0.99\n",
    "    n.train(inputs,targets)\n",
    "    pass"
   ]
  },
  {
   "cell_type": "code",
   "execution_count": 11,
   "id": "a13b0b3f",
   "metadata": {},
   "outputs": [
    {
     "name": "stdout",
     "output_type": "stream",
     "text": [
      "4\n"
     ]
    }
   ],
   "source": [
    "test_data_file = open(\"./mnist_test.csv\",'r')\n",
    "test_data_list = test_data_file.readlines()\n",
    "test_data_file.close()\n",
    "all_values = test_data_list[67].split(',')\n",
    "print(all_values[0])"
   ]
  },
  {
   "cell_type": "code",
   "execution_count": 12,
   "id": "41556c11",
   "metadata": {},
   "outputs": [
    {
     "data": {
      "text/plain": [
       "<matplotlib.image.AxesImage at 0x26e7173e010>"
      ]
     },
     "execution_count": 12,
     "metadata": {},
     "output_type": "execute_result"
    },
    {
     "data": {
      "image/png": "[encoded data removed]",
      "text/plain": [
       "<Figure size 640x480 with 1 Axes>"
      ]
     },
     "metadata": {},
     "output_type": "display_data"
    }
   ],
   "source": [
    "image_array = numpy.asfarray(all_values[1:]).reshape(28,28)\n",
    "matplotlib.pyplot.imshow(image_array,cmap='Greys',interpolation='None')"
   ]
  },
  {
   "cell_type": "code",
   "execution_count": 14,
   "id": "04c44d1e",
   "metadata": {},
   "outputs": [
    {
     "data": {
      "text/plain": [
       "array([[1.23654394e-02],\n",
       "       [4.70974111e-03],\n",
       "       [6.84569449e-03],\n",
       "       [8.25330228e-04],\n",
       "       [9.95127545e-01],\n",
       "       [1.45062306e-02],\n",
       "       [1.31175186e-02],\n",
       "       [2.04038579e-03],\n",
       "       [3.45297343e-03],\n",
       "       [6.86387023e-03]])"
      ]
     },
     "execution_count": 14,
     "metadata": {},
     "output_type": "execute_result"
    }
   ],
   "source": [
    "n.query((numpy.asfarray(all_values[1:])/ 255.0 * 0.99)+0.01)"
   ]
  },
  {
   "cell_type": "code",
   "execution_count": null,
   "id": "05feff6c",
   "metadata": {},
   "outputs": [],
   "source": []
  }
 ],
 "metadata": {
  "kernelspec": {
   "display_name": "Python 3 (ipykernel)",
   "language": "python",
   "name": "python3"
  },
  "language_info": {
   "codemirror_mode": {
    "name": "ipython",
    "version": 3
   },
   "file_extension": ".py",
   "mimetype": "text/x-python",
   "name": "python",
   "nbconvert_exporter": "python",
   "pygments_lexer": "ipython3",
   "version": "3.11.4"
  }
 },
 "nbformat": 4,
 "nbformat_minor": 5
}
